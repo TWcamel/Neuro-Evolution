{
 "cells": [
  {
   "cell_type": "code",
   "execution_count": 10,
   "metadata": {},
   "outputs": [
    {
     "ename": "NameError",
     "evalue": "name 'dog' is not defined",
     "output_type": "error",
     "traceback": [
      "\u001b[1;31m---------------------------------------------------------------------------\u001b[0m",
      "\u001b[1;31mNameError\u001b[0m                                 Traceback (most recent call last)",
      "\u001b[1;32m<ipython-input-10-b664d59414a6>\u001b[0m in \u001b[0;36m<module>\u001b[1;34m\u001b[0m\n\u001b[0;32m      3\u001b[0m     \u001b[1;32mdef\u001b[0m \u001b[0m__init__\u001b[0m\u001b[1;33m(\u001b[0m\u001b[0mself\u001b[0m\u001b[1;33m,\u001b[0m \u001b[0mname\u001b[0m\u001b[1;33m)\u001b[0m\u001b[1;33m:\u001b[0m\u001b[1;33m\u001b[0m\u001b[1;33m\u001b[0m\u001b[0m\n\u001b[0;32m      4\u001b[0m         \u001b[0mself\u001b[0m\u001b[1;33m.\u001b[0m\u001b[0mname\u001b[0m \u001b[1;33m=\u001b[0m \u001b[0mname\u001b[0m\u001b[1;33m\u001b[0m\u001b[1;33m\u001b[0m\u001b[0m\n\u001b[1;32m----> 5\u001b[1;33m \u001b[0ma\u001b[0m \u001b[1;33m=\u001b[0m \u001b[0mAnimal\u001b[0m\u001b[1;33m(\u001b[0m\u001b[0mdog\u001b[0m\u001b[1;33m)\u001b[0m \u001b[1;31m#建立一個名叫dog的Animal實體(物件)\u001b[0m\u001b[1;33m\u001b[0m\u001b[1;33m\u001b[0m\u001b[0m\n\u001b[0m\u001b[0;32m      6\u001b[0m \u001b[0mprint\u001b[0m\u001b[1;33m(\u001b[0m\u001b[0ma\u001b[0m\u001b[1;33m.\u001b[0m\u001b[0mname\u001b[0m\u001b[1;33m)\u001b[0m\u001b[1;33m\u001b[0m\u001b[1;33m\u001b[0m\u001b[0m\n",
      "\u001b[1;31mNameError\u001b[0m: name 'dog' is not defined"
     ]
    }
   ],
   "source": [
    "# 建立基本屬性\n",
    "class Animal():\n",
    "    def __init__(self, name):\n",
    "        self.name = name\n",
    "a = Animal(\"dog\") #建立一個名叫dog的Animal實體(物件)\n",
    "print(a.name)"
   ]
  },
  {
   "cell_type": "code",
   "execution_count": 8,
   "metadata": {},
   "outputs": [
    {
     "name": "stdout",
     "output_type": "stream",
     "text": [
      "gihuahua 8 A\n"
     ]
    }
   ],
   "source": [
    "class Dog():\n",
    "    def __init__(self, name, age, blood_type):\n",
    "        self.name = name\n",
    "        self.age = age\n",
    "        self.blood_type = blood_type\n",
    "a = Dog(\"gihuahua\" , 8, \"A\") #建立一個名叫dog的Animal實體(物件)\n",
    "print(a.name, a.age, a.blood_type)\n",
    "\n",
    "# 這邊用中文闡述def __init__的過程\n",
    "# def __init__(self,名字,年齡)\n",
    "# 因為self是class本身 所以第一個不用更動\n",
    "# 接下來再設定\n",
    "# self.名字=名字\n",
    "# self.年齡=年齡\n",
    "# 在這邊self.的設定 就代表你之後可以用的class屬性"
   ]
  },
  {
   "cell_type": "code",
   "execution_count": 13,
   "metadata": {},
   "outputs": [
    {
     "name": "stdout",
     "output_type": "stream",
     "text": [
      "dog\n"
     ]
    }
   ],
   "source": [
    "class Animal():\n",
    "    def __init__(self, name):\n",
    "        self.name = name\n",
    "    def who(self):\n",
    "        return self.name\n",
    "a = Animal(\"dog\")\n",
    "print(a.name)\n",
    "\n",
    "# 要注意使用函式def 跟 屬性時\n",
    "# 要在位置上加上self，這樣子呼叫函式時才會運作正常\n",
    "\n"
   ]
  },
  {
   "cell_type": "code",
   "execution_count": 16,
   "metadata": {},
   "outputs": [
    {
     "ename": "AttributeError",
     "evalue": "'Animal' object has no attribute 'name'",
     "output_type": "error",
     "traceback": [
      "\u001b[1;31m---------------------------------------------------------------------------\u001b[0m",
      "\u001b[1;31mAttributeError\u001b[0m                            Traceback (most recent call last)",
      "\u001b[1;32m<ipython-input-16-abc93592dcdc>\u001b[0m in \u001b[0;36m<module>\u001b[1;34m\u001b[0m\n\u001b[0;32m      3\u001b[0m         \u001b[0mself\u001b[0m\u001b[1;33m.\u001b[0m\u001b[0m__name\u001b[0m \u001b[1;33m=\u001b[0m \u001b[0mname\u001b[0m\u001b[1;33m\u001b[0m\u001b[1;33m\u001b[0m\u001b[0m\n\u001b[0;32m      4\u001b[0m \u001b[0ma\u001b[0m \u001b[1;33m=\u001b[0m \u001b[0mAnimal\u001b[0m\u001b[1;33m(\u001b[0m\u001b[1;34m\"dog\"\u001b[0m\u001b[1;33m)\u001b[0m\u001b[1;33m\u001b[0m\u001b[1;33m\u001b[0m\u001b[0m\n\u001b[1;32m----> 5\u001b[1;33m \u001b[0mprint\u001b[0m \u001b[1;33m(\u001b[0m\u001b[0ma\u001b[0m\u001b[1;33m.\u001b[0m\u001b[0mname\u001b[0m\u001b[1;33m)\u001b[0m \u001b[1;31m#raise error\u001b[0m\u001b[1;33m\u001b[0m\u001b[1;33m\u001b[0m\u001b[0m\n\u001b[0m\u001b[0;32m      6\u001b[0m \u001b[1;33m\u001b[0m\u001b[0m\n\u001b[0;32m      7\u001b[0m \u001b[1;31m# 有一個特別的是\u001b[0m\u001b[1;33m\u001b[0m\u001b[1;33m\u001b[0m\u001b[1;33m\u001b[0m\u001b[0m\n",
      "\u001b[1;31mAttributeError\u001b[0m: 'Animal' object has no attribute 'name'"
     ]
    }
   ],
   "source": [
    "class Animal():\n",
    "    def __init__(self, name):\n",
    "        self.__name = name\n",
    "a = Animal(\"dog\")\n",
    "print (a.__name) #raise error\n",
    "\n",
    "# 有一個特別的是\n",
    "# 如果變數不希望直接被取用\n",
    "# 則可以給兩條底線 例如 self.__name\n",
    "\n",
    "# 這時候就會產生錯誤，因為__name不能直接讀取\n",
    "# 可以用來設定一些內部使用的函數"
   ]
  },
  {
   "cell_type": "code",
   "execution_count": 24,
   "metadata": {},
   "outputs": [],
   "source": [
    "# 簡單範例:互動案例-存款與取款\n",
    "\n",
    "class Account:\n",
    "    def __init__(self, number, name):\n",
    "        self.number = number\n",
    "        self.name = name\n",
    "        self.balance = 0 # 原本帳戶有的餘額\n",
    "        \n",
    "    def deposit(self, amount):  #存款動作: amount代表存入金額\n",
    "        if amount <= self.balance:\n",
    "            raise ValueError('amount of deposit must be positive')\n",
    "        self.balance += amount\n",
    "        \n",
    "    def withdraw(self, amount): #取款動作: amount代表取款金額\n",
    "        if amount <= self.balance:\n",
    "            self.balance -= amount\n",
    "        else:\n",
    "            raise RuntimeError('balance not enough')"
   ]
  },
  {
   "cell_type": "code",
   "execution_count": 25,
   "metadata": {},
   "outputs": [
    {
     "name": "stdout",
     "output_type": "stream",
     "text": [
      "70\n"
     ]
    }
   ],
   "source": [
    "# 定義完class之後，就可以寫一些存取款動作\n",
    "\n",
    "acct1 = Account(\"123–456–789\", \"Justin\") #開一個帳戶\n",
    "acct1.deposit(100)\n",
    "acct1.withdraw(30)\n",
    "print(acct1.balance) #餘額是 70"
   ]
  },
  {
   "cell_type": "code",
   "execution_count": 27,
   "metadata": {},
   "outputs": [
    {
     "name": "stdout",
     "output_type": "stream",
     "text": [
      "[86 48 13]\n",
      "[0 3 2]\n"
     ]
    }
   ],
   "source": [
    "# np.random.choice的用法\n",
    "import numpy as np\n",
    "\n",
    "# 參數意思分別是從a中以概率P，隨機選擇3個，p沒有指定的時候相當於是一致的分佈\n",
    "a1 = np.random.choice(a=np.arange(0,100), size=3, replace=False, p=None)\n",
    "print(a1)\n",
    "\n",
    "# 非一致的分佈，會以多少的概率提出來\n",
    "a2 = np.random.choice(a=5, size=3, replace=False, p=[0.2, 0.1, 0.3, 0.4, 0.0])\n",
    "print(a2)"
   ]
  },
  {
   "cell_type": "code",
   "execution_count": null,
   "metadata": {},
   "outputs": [],
   "source": []
  }
 ],
 "metadata": {
  "kernelspec": {
   "display_name": "Python 3",
   "language": "python",
   "name": "python3"
  },
  "language_info": {
   "codemirror_mode": {
    "name": "ipython",
    "version": 3
   },
   "file_extension": ".py",
   "mimetype": "text/x-python",
   "name": "python",
   "nbconvert_exporter": "python",
   "pygments_lexer": "ipython3",
   "version": "3.6.7"
  }
 },
 "nbformat": 4,
 "nbformat_minor": 2
}
