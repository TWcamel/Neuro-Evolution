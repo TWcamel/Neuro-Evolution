{
 "cells": [
  {
   "cell_type": "code",
   "execution_count": 82,
   "metadata": {},
   "outputs": [],
   "source": [
    "import numpy as np\n",
    "a = np.array([[.1,5,3],[.004,2,6],[.2,6,9],[.4,5,77]])"
   ]
  },
  {
   "cell_type": "code",
   "execution_count": 83,
   "metadata": {},
   "outputs": [
    {
     "name": "stdout",
     "output_type": "stream",
     "text": [
      "[[1.0e-01 5.0e+00 3.0e+00]\n",
      " [4.0e-03 2.0e+00 6.0e+00]\n",
      " [2.0e-01 6.0e+00 9.0e+00]\n",
      " [4.0e-01 5.0e+00 7.7e+01]]\n"
     ]
    }
   ],
   "source": [
    "print(a)"
   ]
  },
  {
   "cell_type": "code",
   "execution_count": 84,
   "metadata": {},
   "outputs": [
    {
     "name": "stdout",
     "output_type": "stream",
     "text": [
      "[[0.1  ]\n",
      " [0.004]\n",
      " [0.2  ]\n",
      " [0.4  ]]\n"
     ]
    }
   ],
   "source": [
    "print(a[:,:1])"
   ]
  },
  {
   "cell_type": "code",
   "execution_count": 85,
   "metadata": {},
   "outputs": [
    {
     "data": {
      "text/plain": [
       "0.004"
      ]
     },
     "execution_count": 85,
     "metadata": {},
     "output_type": "execute_result"
    }
   ],
   "source": [
    "np.min(a)"
   ]
  },
  {
   "cell_type": "code",
   "execution_count": 89,
   "metadata": {},
   "outputs": [
    {
     "name": "stdout",
     "output_type": "stream",
     "text": [
      "[[4.0e-01 5.0e+00 7.7e+01]\n",
      " [4.0e-03 2.0e+00 6.0e+00]]\n"
     ]
    }
   ],
   "source": [
    "print(a[::-2])"
   ]
  },
  {
   "cell_type": "code",
   "execution_count": 88,
   "metadata": {},
   "outputs": [
    {
     "name": "stdout",
     "output_type": "stream",
     "text": [
      "[0 0 1 1 0 1 1 0 1 0 1 1 1 0 0 0 0 0 1 1 0 0 0 1 1 0 1 0 0 1 0 0 0 1 1 1 1\n",
      " 0 1 0 0 1 0 0 0 1 1 0 1 1 0 0 0 1 0 1 1 0 0 1 1 1 1 1 1 0 0 0 0 1 0 1 1 0\n",
      " 0 1 1 1 1 0 0 0 0 1 1 0 1 1 0 0 0 1 0 0 1 1 0 0 0 0]\n",
      "[ 0  1  2  3  4  5  6  7  8  9 10 11 12 13 14 15 16 17 18 19 20 21 22 23\n",
      " 24 25 26 27 28 29 30 31 32 33 34 35 36 37 38 39 40 41 42 43 44 45 46 47\n",
      " 48 49 50 51 52 53 54 55 56 57 58 59 60 61 62 63 64 65 66 67 68 69 70 71\n",
      " 72 73 74 75 76 77 78 79 80 81 82 83 84 85 86 87 88 89 90 91 92 93 94 95\n",
      " 96 97 98 99]\n",
      "[False False  True  True False  True  True False  True False  True  True\n",
      "  True False False False False False  True  True False False False  True\n",
      "  True False  True False False  True False False False  True  True  True\n",
      "  True False  True False False  True False False False  True  True False\n",
      "  True  True False False False  True False  True  True False False  True\n",
      "  True  True  True  True  True False False False False  True False  True\n",
      "  True False False  True  True  True  True False False False False  True\n",
      "  True False  True  True False False False  True False False  True  True\n",
      " False False False False]\n"
     ]
    }
   ],
   "source": [
    "b=np.random.randint(0,2, 100)\n",
    "c=np.arange(0,100)\n",
    "print(b)\n",
    "print(c)\n",
    "b=b.astype(np.bool)\n",
    "print(b)"
   ]
  },
  {
   "cell_type": "code",
   "execution_count": 73,
   "metadata": {},
   "outputs": [
    {
     "name": "stdout",
     "output_type": "stream",
     "text": [
      "[ 1  6  9 14 17 18 19 21 23 25 26 27 29 31 34 39 40 41 42 43 47 48 50 51\n",
      " 52 54 59 60 61 63 66 67 69 70 74 75 79 81 84 85 87 88 89 90 91 92 93 98]\n"
     ]
    }
   ],
   "source": [
    "print(c[b]) #B和C矩陣大小要一樣，輸出為B映射到C的分量"
   ]
  },
  {
   "cell_type": "code",
   "execution_count": 115,
   "metadata": {},
   "outputs": [
    {
     "name": "stdout",
     "output_type": "stream",
     "text": [
      "[ 0.   2.5  5.   7.5 10. ]\n",
      "5\n",
      "4\n"
     ]
    },
    {
     "data": {
      "image/png": "[encoded data removed]",
      "text/plain": [
       "<Figure size 432x288 with 1 Axes>"
      ]
     },
     "metadata": {
      "needs_background": "light"
     },
     "output_type": "display_data"
    }
   ],
   "source": [
    "import matplotlib.pyplot as plt\n",
    "N = 5\n",
    "y = np.zeros(N)\n",
    "x1 = np.linspace(0, 10, N, endpoint=True)\n",
    "x2 = np.linspace(0, 10, N, endpoint=False)\n",
    "plt.plot(x2, x1, 'o')\n",
    "print(x1)\n",
    "print(len(x1))\n",
    "print(np.argmax(x1))"
   ]
  },
  {
   "cell_type": "code",
   "execution_count": null,
   "metadata": {},
   "outputs": [],
   "source": []
  }
 ],
 "metadata": {
  "kernelspec": {
   "display_name": "Python 3",
   "language": "python",
   "name": "python3"
  },
  "language_info": {
   "codemirror_mode": {
    "name": "ipython",
    "version": 3
   },
   "file_extension": ".py",
   "mimetype": "text/x-python",
   "name": "python",
   "nbconvert_exporter": "python",
   "pygments_lexer": "ipython3",
   "version": "3.6.7"
  }
 },
 "nbformat": 4,
 "nbformat_minor": 2
}
